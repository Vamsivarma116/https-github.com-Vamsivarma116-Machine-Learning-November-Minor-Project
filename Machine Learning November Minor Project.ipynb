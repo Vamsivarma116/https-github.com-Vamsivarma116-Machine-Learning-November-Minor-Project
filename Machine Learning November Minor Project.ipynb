{
 "cells": [
  {
   "cell_type": "code",
   "execution_count": 227,
   "id": "7352a45b",
   "metadata": {},
   "outputs": [],
   "source": [
    "import pandas as pd\n",
    "import numpy as np\n",
    "import matplotlib.pyplot as plt"
   ]
  },
  {
   "cell_type": "code",
   "execution_count": 228,
   "id": "c07107c4",
   "metadata": {},
   "outputs": [],
   "source": [
    "df=pd.read_csv(\"voice.csv\")"
   ]
  },
  {
   "cell_type": "code",
   "execution_count": 229,
   "id": "9a76ddd9",
   "metadata": {},
   "outputs": [
    {
     "data": {
      "text/plain": [
       "(3168, 21)"
      ]
     },
     "execution_count": 229,
     "metadata": {},
     "output_type": "execute_result"
    }
   ],
   "source": [
    "df.shape"
   ]
  },
  {
   "cell_type": "markdown",
   "id": "0fc80c43",
   "metadata": {},
   "source": [
    "# 1. Remove / Handle null values (if any)."
   ]
  },
  {
   "cell_type": "code",
   "execution_count": 230,
   "id": "af32fbea",
   "metadata": {},
   "outputs": [
    {
     "data": {
      "text/plain": [
       "meanfreq    0\n",
       "sd          0\n",
       "median      0\n",
       "Q25         0\n",
       "Q75         0\n",
       "IQR         0\n",
       "skew        0\n",
       "kurt        0\n",
       "sp.ent      0\n",
       "sfm         0\n",
       "mode        0\n",
       "centroid    0\n",
       "meanfun     0\n",
       "minfun      0\n",
       "maxfun      0\n",
       "meandom     0\n",
       "mindom      0\n",
       "maxdom      0\n",
       "dfrange     0\n",
       "modindx     0\n",
       "label       0\n",
       "dtype: int64"
      ]
     },
     "execution_count": 230,
     "metadata": {},
     "output_type": "execute_result"
    }
   ],
   "source": [
    "df.isnull().sum() #Checking number of null values column vise."
   ]
  },
  {
   "cell_type": "markdown",
   "id": "df71cc91",
   "metadata": {},
   "source": [
    "# Check for duplicates."
   ]
  },
  {
   "cell_type": "code",
   "execution_count": 231,
   "id": "bbf8e4de",
   "metadata": {},
   "outputs": [
    {
     "data": {
      "text/plain": [
       "2"
      ]
     },
     "execution_count": 231,
     "metadata": {},
     "output_type": "execute_result"
    }
   ],
   "source": [
    "df.duplicated().sum()"
   ]
  },
  {
   "cell_type": "code",
   "execution_count": 232,
   "id": "54be0f8e",
   "metadata": {},
   "outputs": [
    {
     "name": "stdout",
     "output_type": "stream",
     "text": [
      "0\n",
      "(3166, 21)\n"
     ]
    }
   ],
   "source": [
    "\"\"\"Handling the duplicates\"\"\"\n",
    "df.drop_duplicates(inplace=True)\n",
    "print(df.duplicated().sum())\n",
    "print(df.shape)"
   ]
  },
  {
   "cell_type": "markdown",
   "id": "86b8887f",
   "metadata": {},
   "source": [
    "# Encoding the Label."
   ]
  },
  {
   "cell_type": "code",
   "execution_count": 233,
   "id": "1d30be16",
   "metadata": {},
   "outputs": [],
   "source": [
    "\"\"\"Encoding the Label column\"\"\"\n",
    "\n",
    "from sklearn.preprocessing import LabelEncoder\n",
    "\n",
    "lb=LabelEncoder()\n",
    "\n",
    "df[\"label\"]=lb.fit_transform(df[\"label\"])"
   ]
  },
  {
   "cell_type": "code",
   "execution_count": 234,
   "id": "f5468f16",
   "metadata": {},
   "outputs": [
    {
     "data": {
      "text/html": [
       "<div>\n",
       "<style scoped>\n",
       "    .dataframe tbody tr th:only-of-type {\n",
       "        vertical-align: middle;\n",
       "    }\n",
       "\n",
       "    .dataframe tbody tr th {\n",
       "        vertical-align: top;\n",
       "    }\n",
       "\n",
       "    .dataframe thead th {\n",
       "        text-align: right;\n",
       "    }\n",
       "</style>\n",
       "<table border=\"1\" class=\"dataframe\">\n",
       "  <thead>\n",
       "    <tr style=\"text-align: right;\">\n",
       "      <th></th>\n",
       "      <th>meanfreq</th>\n",
       "      <th>sd</th>\n",
       "      <th>median</th>\n",
       "      <th>Q25</th>\n",
       "      <th>Q75</th>\n",
       "      <th>IQR</th>\n",
       "      <th>skew</th>\n",
       "      <th>kurt</th>\n",
       "      <th>sp.ent</th>\n",
       "      <th>sfm</th>\n",
       "      <th>...</th>\n",
       "      <th>centroid</th>\n",
       "      <th>meanfun</th>\n",
       "      <th>minfun</th>\n",
       "      <th>maxfun</th>\n",
       "      <th>meandom</th>\n",
       "      <th>mindom</th>\n",
       "      <th>maxdom</th>\n",
       "      <th>dfrange</th>\n",
       "      <th>modindx</th>\n",
       "      <th>label</th>\n",
       "    </tr>\n",
       "  </thead>\n",
       "  <tbody>\n",
       "    <tr>\n",
       "      <th>0</th>\n",
       "      <td>0.059781</td>\n",
       "      <td>0.064241</td>\n",
       "      <td>0.032027</td>\n",
       "      <td>0.015071</td>\n",
       "      <td>0.090193</td>\n",
       "      <td>0.075122</td>\n",
       "      <td>12.863462</td>\n",
       "      <td>274.402906</td>\n",
       "      <td>0.893369</td>\n",
       "      <td>0.491918</td>\n",
       "      <td>...</td>\n",
       "      <td>0.059781</td>\n",
       "      <td>0.084279</td>\n",
       "      <td>0.015702</td>\n",
       "      <td>0.275862</td>\n",
       "      <td>0.007812</td>\n",
       "      <td>0.007812</td>\n",
       "      <td>0.007812</td>\n",
       "      <td>0.000000</td>\n",
       "      <td>0.000000</td>\n",
       "      <td>1</td>\n",
       "    </tr>\n",
       "    <tr>\n",
       "      <th>1</th>\n",
       "      <td>0.066009</td>\n",
       "      <td>0.067310</td>\n",
       "      <td>0.040229</td>\n",
       "      <td>0.019414</td>\n",
       "      <td>0.092666</td>\n",
       "      <td>0.073252</td>\n",
       "      <td>22.423285</td>\n",
       "      <td>634.613855</td>\n",
       "      <td>0.892193</td>\n",
       "      <td>0.513724</td>\n",
       "      <td>...</td>\n",
       "      <td>0.066009</td>\n",
       "      <td>0.107937</td>\n",
       "      <td>0.015826</td>\n",
       "      <td>0.250000</td>\n",
       "      <td>0.009014</td>\n",
       "      <td>0.007812</td>\n",
       "      <td>0.054688</td>\n",
       "      <td>0.046875</td>\n",
       "      <td>0.052632</td>\n",
       "      <td>1</td>\n",
       "    </tr>\n",
       "    <tr>\n",
       "      <th>2</th>\n",
       "      <td>0.077316</td>\n",
       "      <td>0.083829</td>\n",
       "      <td>0.036718</td>\n",
       "      <td>0.008701</td>\n",
       "      <td>0.131908</td>\n",
       "      <td>0.123207</td>\n",
       "      <td>30.757155</td>\n",
       "      <td>1024.927705</td>\n",
       "      <td>0.846389</td>\n",
       "      <td>0.478905</td>\n",
       "      <td>...</td>\n",
       "      <td>0.077316</td>\n",
       "      <td>0.098706</td>\n",
       "      <td>0.015656</td>\n",
       "      <td>0.271186</td>\n",
       "      <td>0.007990</td>\n",
       "      <td>0.007812</td>\n",
       "      <td>0.015625</td>\n",
       "      <td>0.007812</td>\n",
       "      <td>0.046512</td>\n",
       "      <td>1</td>\n",
       "    </tr>\n",
       "    <tr>\n",
       "      <th>3</th>\n",
       "      <td>0.151228</td>\n",
       "      <td>0.072111</td>\n",
       "      <td>0.158011</td>\n",
       "      <td>0.096582</td>\n",
       "      <td>0.207955</td>\n",
       "      <td>0.111374</td>\n",
       "      <td>1.232831</td>\n",
       "      <td>4.177296</td>\n",
       "      <td>0.963322</td>\n",
       "      <td>0.727232</td>\n",
       "      <td>...</td>\n",
       "      <td>0.151228</td>\n",
       "      <td>0.088965</td>\n",
       "      <td>0.017798</td>\n",
       "      <td>0.250000</td>\n",
       "      <td>0.201497</td>\n",
       "      <td>0.007812</td>\n",
       "      <td>0.562500</td>\n",
       "      <td>0.554688</td>\n",
       "      <td>0.247119</td>\n",
       "      <td>1</td>\n",
       "    </tr>\n",
       "    <tr>\n",
       "      <th>4</th>\n",
       "      <td>0.135120</td>\n",
       "      <td>0.079146</td>\n",
       "      <td>0.124656</td>\n",
       "      <td>0.078720</td>\n",
       "      <td>0.206045</td>\n",
       "      <td>0.127325</td>\n",
       "      <td>1.101174</td>\n",
       "      <td>4.333713</td>\n",
       "      <td>0.971955</td>\n",
       "      <td>0.783568</td>\n",
       "      <td>...</td>\n",
       "      <td>0.135120</td>\n",
       "      <td>0.106398</td>\n",
       "      <td>0.016931</td>\n",
       "      <td>0.266667</td>\n",
       "      <td>0.712812</td>\n",
       "      <td>0.007812</td>\n",
       "      <td>5.484375</td>\n",
       "      <td>5.476562</td>\n",
       "      <td>0.208274</td>\n",
       "      <td>1</td>\n",
       "    </tr>\n",
       "    <tr>\n",
       "      <th>...</th>\n",
       "      <td>...</td>\n",
       "      <td>...</td>\n",
       "      <td>...</td>\n",
       "      <td>...</td>\n",
       "      <td>...</td>\n",
       "      <td>...</td>\n",
       "      <td>...</td>\n",
       "      <td>...</td>\n",
       "      <td>...</td>\n",
       "      <td>...</td>\n",
       "      <td>...</td>\n",
       "      <td>...</td>\n",
       "      <td>...</td>\n",
       "      <td>...</td>\n",
       "      <td>...</td>\n",
       "      <td>...</td>\n",
       "      <td>...</td>\n",
       "      <td>...</td>\n",
       "      <td>...</td>\n",
       "      <td>...</td>\n",
       "      <td>...</td>\n",
       "    </tr>\n",
       "    <tr>\n",
       "      <th>3163</th>\n",
       "      <td>0.131884</td>\n",
       "      <td>0.084734</td>\n",
       "      <td>0.153707</td>\n",
       "      <td>0.049285</td>\n",
       "      <td>0.201144</td>\n",
       "      <td>0.151859</td>\n",
       "      <td>1.762129</td>\n",
       "      <td>6.630383</td>\n",
       "      <td>0.962934</td>\n",
       "      <td>0.763182</td>\n",
       "      <td>...</td>\n",
       "      <td>0.131884</td>\n",
       "      <td>0.182790</td>\n",
       "      <td>0.083770</td>\n",
       "      <td>0.262295</td>\n",
       "      <td>0.832899</td>\n",
       "      <td>0.007812</td>\n",
       "      <td>4.210938</td>\n",
       "      <td>4.203125</td>\n",
       "      <td>0.161929</td>\n",
       "      <td>0</td>\n",
       "    </tr>\n",
       "    <tr>\n",
       "      <th>3164</th>\n",
       "      <td>0.116221</td>\n",
       "      <td>0.089221</td>\n",
       "      <td>0.076758</td>\n",
       "      <td>0.042718</td>\n",
       "      <td>0.204911</td>\n",
       "      <td>0.162193</td>\n",
       "      <td>0.693730</td>\n",
       "      <td>2.503954</td>\n",
       "      <td>0.960716</td>\n",
       "      <td>0.709570</td>\n",
       "      <td>...</td>\n",
       "      <td>0.116221</td>\n",
       "      <td>0.188980</td>\n",
       "      <td>0.034409</td>\n",
       "      <td>0.275862</td>\n",
       "      <td>0.909856</td>\n",
       "      <td>0.039062</td>\n",
       "      <td>3.679688</td>\n",
       "      <td>3.640625</td>\n",
       "      <td>0.277897</td>\n",
       "      <td>0</td>\n",
       "    </tr>\n",
       "    <tr>\n",
       "      <th>3165</th>\n",
       "      <td>0.142056</td>\n",
       "      <td>0.095798</td>\n",
       "      <td>0.183731</td>\n",
       "      <td>0.033424</td>\n",
       "      <td>0.224360</td>\n",
       "      <td>0.190936</td>\n",
       "      <td>1.876502</td>\n",
       "      <td>6.604509</td>\n",
       "      <td>0.946854</td>\n",
       "      <td>0.654196</td>\n",
       "      <td>...</td>\n",
       "      <td>0.142056</td>\n",
       "      <td>0.209918</td>\n",
       "      <td>0.039506</td>\n",
       "      <td>0.275862</td>\n",
       "      <td>0.494271</td>\n",
       "      <td>0.007812</td>\n",
       "      <td>2.937500</td>\n",
       "      <td>2.929688</td>\n",
       "      <td>0.194759</td>\n",
       "      <td>0</td>\n",
       "    </tr>\n",
       "    <tr>\n",
       "      <th>3166</th>\n",
       "      <td>0.143659</td>\n",
       "      <td>0.090628</td>\n",
       "      <td>0.184976</td>\n",
       "      <td>0.043508</td>\n",
       "      <td>0.219943</td>\n",
       "      <td>0.176435</td>\n",
       "      <td>1.591065</td>\n",
       "      <td>5.388298</td>\n",
       "      <td>0.950436</td>\n",
       "      <td>0.675470</td>\n",
       "      <td>...</td>\n",
       "      <td>0.143659</td>\n",
       "      <td>0.172375</td>\n",
       "      <td>0.034483</td>\n",
       "      <td>0.250000</td>\n",
       "      <td>0.791360</td>\n",
       "      <td>0.007812</td>\n",
       "      <td>3.593750</td>\n",
       "      <td>3.585938</td>\n",
       "      <td>0.311002</td>\n",
       "      <td>0</td>\n",
       "    </tr>\n",
       "    <tr>\n",
       "      <th>3167</th>\n",
       "      <td>0.165509</td>\n",
       "      <td>0.092884</td>\n",
       "      <td>0.183044</td>\n",
       "      <td>0.070072</td>\n",
       "      <td>0.250827</td>\n",
       "      <td>0.180756</td>\n",
       "      <td>1.705029</td>\n",
       "      <td>5.769115</td>\n",
       "      <td>0.938829</td>\n",
       "      <td>0.601529</td>\n",
       "      <td>...</td>\n",
       "      <td>0.165509</td>\n",
       "      <td>0.185607</td>\n",
       "      <td>0.062257</td>\n",
       "      <td>0.271186</td>\n",
       "      <td>0.227022</td>\n",
       "      <td>0.007812</td>\n",
       "      <td>0.554688</td>\n",
       "      <td>0.546875</td>\n",
       "      <td>0.350000</td>\n",
       "      <td>0</td>\n",
       "    </tr>\n",
       "  </tbody>\n",
       "</table>\n",
       "<p>3166 rows × 21 columns</p>\n",
       "</div>"
      ],
      "text/plain": [
       "      meanfreq        sd    median       Q25       Q75       IQR       skew  \\\n",
       "0     0.059781  0.064241  0.032027  0.015071  0.090193  0.075122  12.863462   \n",
       "1     0.066009  0.067310  0.040229  0.019414  0.092666  0.073252  22.423285   \n",
       "2     0.077316  0.083829  0.036718  0.008701  0.131908  0.123207  30.757155   \n",
       "3     0.151228  0.072111  0.158011  0.096582  0.207955  0.111374   1.232831   \n",
       "4     0.135120  0.079146  0.124656  0.078720  0.206045  0.127325   1.101174   \n",
       "...        ...       ...       ...       ...       ...       ...        ...   \n",
       "3163  0.131884  0.084734  0.153707  0.049285  0.201144  0.151859   1.762129   \n",
       "3164  0.116221  0.089221  0.076758  0.042718  0.204911  0.162193   0.693730   \n",
       "3165  0.142056  0.095798  0.183731  0.033424  0.224360  0.190936   1.876502   \n",
       "3166  0.143659  0.090628  0.184976  0.043508  0.219943  0.176435   1.591065   \n",
       "3167  0.165509  0.092884  0.183044  0.070072  0.250827  0.180756   1.705029   \n",
       "\n",
       "             kurt    sp.ent       sfm  ...  centroid   meanfun    minfun  \\\n",
       "0      274.402906  0.893369  0.491918  ...  0.059781  0.084279  0.015702   \n",
       "1      634.613855  0.892193  0.513724  ...  0.066009  0.107937  0.015826   \n",
       "2     1024.927705  0.846389  0.478905  ...  0.077316  0.098706  0.015656   \n",
       "3        4.177296  0.963322  0.727232  ...  0.151228  0.088965  0.017798   \n",
       "4        4.333713  0.971955  0.783568  ...  0.135120  0.106398  0.016931   \n",
       "...           ...       ...       ...  ...       ...       ...       ...   \n",
       "3163     6.630383  0.962934  0.763182  ...  0.131884  0.182790  0.083770   \n",
       "3164     2.503954  0.960716  0.709570  ...  0.116221  0.188980  0.034409   \n",
       "3165     6.604509  0.946854  0.654196  ...  0.142056  0.209918  0.039506   \n",
       "3166     5.388298  0.950436  0.675470  ...  0.143659  0.172375  0.034483   \n",
       "3167     5.769115  0.938829  0.601529  ...  0.165509  0.185607  0.062257   \n",
       "\n",
       "        maxfun   meandom    mindom    maxdom   dfrange   modindx  label  \n",
       "0     0.275862  0.007812  0.007812  0.007812  0.000000  0.000000      1  \n",
       "1     0.250000  0.009014  0.007812  0.054688  0.046875  0.052632      1  \n",
       "2     0.271186  0.007990  0.007812  0.015625  0.007812  0.046512      1  \n",
       "3     0.250000  0.201497  0.007812  0.562500  0.554688  0.247119      1  \n",
       "4     0.266667  0.712812  0.007812  5.484375  5.476562  0.208274      1  \n",
       "...        ...       ...       ...       ...       ...       ...    ...  \n",
       "3163  0.262295  0.832899  0.007812  4.210938  4.203125  0.161929      0  \n",
       "3164  0.275862  0.909856  0.039062  3.679688  3.640625  0.277897      0  \n",
       "3165  0.275862  0.494271  0.007812  2.937500  2.929688  0.194759      0  \n",
       "3166  0.250000  0.791360  0.007812  3.593750  3.585938  0.311002      0  \n",
       "3167  0.271186  0.227022  0.007812  0.554688  0.546875  0.350000      0  \n",
       "\n",
       "[3166 rows x 21 columns]"
      ]
     },
     "execution_count": 234,
     "metadata": {},
     "output_type": "execute_result"
    }
   ],
   "source": [
    "df"
   ]
  },
  {
   "cell_type": "markdown",
   "id": "2925dca5",
   "metadata": {},
   "source": [
    "# 2. Depict percentage distribution of label on a pie chart."
   ]
  },
  {
   "cell_type": "code",
   "execution_count": 236,
   "id": "e916fd9c",
   "metadata": {},
   "outputs": [
    {
     "data": {
      "text/plain": [
       "<AxesSubplot:ylabel='label'>"
      ]
     },
     "execution_count": 236,
     "metadata": {},
     "output_type": "execute_result"
    },
    {
     "data": {
      "image/png": "[encoded data removed]",
      "text/plain": [
       "<Figure size 640x480 with 1 Axes>"
      ]
     },
     "metadata": {},
     "output_type": "display_data"
    }
   ],
   "source": [
    "df[\"label\"].value_counts().plot.pie()"
   ]
  },
  {
   "cell_type": "markdown",
   "id": "a2c1ade9",
   "metadata": {},
   "source": [
    "# 3. Considering all the features as independent and label as dependent                    feature, split the dataset training and testing data with test size=20%."
   ]
  },
  {
   "cell_type": "code",
   "execution_count": 237,
   "id": "7de3b6ac",
   "metadata": {},
   "outputs": [
    {
     "name": "stdout",
     "output_type": "stream",
     "text": [
      "<class 'pandas.core.frame.DataFrame'>\n",
      "<class 'pandas.core.series.Series'>\n",
      "(3166, 20)\n",
      "(3166,)\n"
     ]
    }
   ],
   "source": [
    "x=df.drop(\"label\",axis=1)  #data frame  x --> independent.\n",
    "y=df[\"label\"]              #series      y --> dependent.\n",
    "print(type(x))\n",
    "print(type(y))\n",
    "print(x.shape)\n",
    "print(y.shape)"
   ]
  },
  {
   "cell_type": "code",
   "execution_count": 238,
   "id": "4ae910a6",
   "metadata": {},
   "outputs": [],
   "source": [
    "#spliting the data to train and test\n",
    "\n",
    "from sklearn.model_selection import train_test_split\n",
    "\n",
    "\"\"\"Spliting the Training Data and Test Data with test size of 20% from total size\"\"\"\n",
    "                                                            # |\n",
    "x_train,x_test,y_train,y_test=train_test_split(x,y,test_size=0.20,random_state=42)\n"
   ]
  },
  {
   "cell_type": "markdown",
   "id": "e412eff1",
   "metadata": {},
   "source": [
    "# 4. Apply the following classifier models on training dataset and generate                predictions for the test data set."
   ]
  },
  {
   "cell_type": "code",
   "execution_count": 239,
   "id": "1931b49c",
   "metadata": {},
   "outputs": [],
   "source": [
    "\"\"\"Generating confusion matrix,Classification report and accuracy\"\"\"\n",
    "\n",
    "from sklearn.metrics import confusion_matrix,classification_report,accuracy_score\n",
    "\n",
    "def eval_model(y_test,ypred):\n",
    "    print(\"\\nConfusion Matrix : \\n\",confusion_matrix(y_test,ypred))\n",
    "    print(\"\\nClassification Report : \\n\",classification_report(y_test,ypred))\n",
    "    print(\"\\nAccuracy Score : \",accuracy_score(y_test,ypred))\n",
    "    \n",
    "def mscore(model):\n",
    "    print(\"\\nTraining Score\",model.score(x_train,y_train))\n",
    "    print(\"\\nTraining Score\",model.score(x_test,y_test))"
   ]
  },
  {
   "cell_type": "markdown",
   "id": "7d8c46ba",
   "metadata": {},
   "source": [
    "# a. Decision Tree Classifier"
   ]
  },
  {
   "cell_type": "code",
   "execution_count": 240,
   "id": "55a9ca37",
   "metadata": {},
   "outputs": [
    {
     "name": "stdout",
     "output_type": "stream",
     "text": [
      "[1 1 1 0 0 1 0 1 0 0 1 1 0 0 1 0 1 1 0 1 1 0 0 1 0 1 0 1 1 1 1 1 1 1 0 0 0\n",
      " 0 1 1 1 1 0 0 0 0 1 0 1 1 0 1 1 1 0 1 0 1 1 1 1 0 1 1 1 0 0 0 1 1 0 0 0 1\n",
      " 1 0 1 1 0 0 0 1 1 1 1 1 0 0 0 1 0 0 1 1 0 1 1 0 0 0 0 1 1 0 1 0 1 1 0 0 1\n",
      " 1 0 0 0 0 1 1 0 0 1 1 1 1 0 0 0 0 1 0 1 0 1 1 0 0 1 0 0 1 1 1 0 1 1 1 0 0\n",
      " 0 0 1 1 1 1 1 0 0 0 1 1 1 0 0 0 0 1 1 1 0 0 1 0 0 0 1 1 1 0 0 1 1 0 1 1 0\n",
      " 0 0 1 1 1 1 0 1 0 0 1 0 1 1 1 1 0 1 1 1 1 1 1 1 1 0 1 1 1 0 0 1 0 0 0 0 1\n",
      " 1 1 0 0 0 1 1 0 1 0 0 1 0 0 1 0 1 0 1 0 0 1 1 0 0 0 1 1 1 0 1 0 1 0 1 1 0\n",
      " 1 1 0 1 1 1 1 1 1 0 1 0 0 0 1 0 0 0 0 0 1 1 1 0 1 1 1 0 0 0 0 0 1 1 0 1 0\n",
      " 1 1 0 0 0 0 0 1 0 0 0 1 1 1 1 1 0 1 1 0 0 0 0 0 1 0 1 1 1 0 1 1 0 0 1 1 0\n",
      " 0 1 0 1 1 0 1 0 1 0 0 0 0 0 0 1 0 0 1 1 0 0 0 0 0 1 1 1 0 1 0 1 0 1 0 1 1\n",
      " 1 1 0 1 0 1 0 1 1 0 1 0 1 0 1 0 1 0 0 1 0 0 0 0 0 0 1 0 0 1 1 1 0 1 0 1 0\n",
      " 0 1 0 1 0 1 0 1 1 1 0 0 1 1 0 1 0 0 0 0 1 0 1 1 0 1 0 1 1 0 0 1 1 0 0 1 1\n",
      " 0 0 0 1 1 1 0 1 1 1 0 1 0 1 0 1 1 0 1 1 0 1 1 0 1 1 0 1 0 1 0 0 1 1 0 1 1\n",
      " 0 0 1 0 1 0 1 0 1 1 1 0 0 1 1 0 0 0 1 0 1 0 0 1 0 1 1 1 0 0 0 1 0 1 0 1 1\n",
      " 1 0 0 1 0 1 0 0 1 0 0 0 0 1 1 1 0 1 1 1 1 1 1 1 0 1 1 0 0 0 1 0 0 1 1 0 1\n",
      " 0 0 0 0 1 0 0 0 0 0 0 0 1 1 0 0 0 1 0 0 1 0 1 1 1 1 0 1 1 0 0 0 1 0 1 1 0\n",
      " 0 0 0 1 0 1 0 0 1 1 0 0 1 0 1 0 1 0 1 1 0 0 1 1 1 1 1 1 0 0 1 1 0 1 1 0 1\n",
      " 1 1 0 1 0]\n",
      "\n",
      "Confusion Matrix : \n",
      " [[294   8]\n",
      " [ 15 317]]\n",
      "\n",
      "Classification Report : \n",
      "               precision    recall  f1-score   support\n",
      "\n",
      "           0       0.95      0.97      0.96       302\n",
      "           1       0.98      0.95      0.96       332\n",
      "\n",
      "    accuracy                           0.96       634\n",
      "   macro avg       0.96      0.96      0.96       634\n",
      "weighted avg       0.96      0.96      0.96       634\n",
      "\n",
      "\n",
      "Accuracy Score :  0.9637223974763407\n",
      "\n",
      "Training Score 0.990916271721959\n",
      "\n",
      "Training Score 0.9637223974763407\n"
     ]
    }
   ],
   "source": [
    "from sklearn.tree import DecisionTreeClassifier\n",
    "\n",
    "Dtc= DecisionTreeClassifier(criterion=\"gini\",max_depth=40,min_samples_split=15)\n",
    "\n",
    "Dtc.fit(x_train,y_train)\n",
    "\n",
    "ypredDTC=Dtc.predict(x_test)\n",
    "\n",
    "print(ypredDTC)\n",
    "\n",
    "eval_model(y_test,ypredDTC)\n",
    "\n",
    "mscore(Dtc)"
   ]
  },
  {
   "cell_type": "markdown",
   "id": "59f87dc0",
   "metadata": {},
   "source": [
    "# b. Random Forest Classifier"
   ]
  },
  {
   "cell_type": "code",
   "execution_count": 241,
   "id": "2e90325e",
   "metadata": {
    "scrolled": false
   },
   "outputs": [
    {
     "name": "stdout",
     "output_type": "stream",
     "text": [
      "[1 1 1 0 0 1 0 1 0 0 1 1 0 0 1 0 1 1 0 1 1 0 0 1 0 1 0 1 1 1 1 1 1 1 1 0 0\n",
      " 0 1 1 1 1 0 0 0 0 1 0 1 1 0 1 1 1 0 1 0 1 1 1 1 0 1 1 1 0 0 0 1 1 0 0 0 1\n",
      " 1 0 1 1 0 0 0 1 1 1 1 1 0 0 0 1 0 0 1 1 0 1 1 0 0 0 0 1 1 0 1 0 1 1 0 0 1\n",
      " 1 0 0 0 0 1 1 0 0 1 1 1 1 0 0 0 0 1 0 1 0 1 1 0 0 1 0 0 1 1 0 0 1 1 1 0 0\n",
      " 0 0 1 1 1 1 1 0 0 0 1 1 1 0 0 0 0 1 1 1 0 0 1 0 0 0 1 1 1 0 0 1 1 0 1 1 0\n",
      " 0 0 1 1 1 1 0 1 0 0 1 0 1 1 1 1 0 1 1 0 1 1 1 1 1 0 1 1 1 0 0 1 0 0 0 0 1\n",
      " 1 1 0 0 0 1 1 0 1 0 0 1 0 0 1 0 1 0 1 0 0 1 1 0 0 0 1 1 1 1 1 0 1 0 1 1 0\n",
      " 1 1 0 1 1 1 1 1 1 0 1 0 0 0 1 0 0 0 0 0 1 1 1 0 1 1 1 0 0 0 0 0 1 1 0 1 0\n",
      " 1 1 0 0 0 0 0 1 0 0 0 1 1 1 1 1 0 1 1 0 0 0 0 0 1 0 1 1 1 0 1 1 0 0 1 1 0\n",
      " 0 1 0 1 1 0 1 0 1 0 0 0 1 0 0 1 0 0 1 1 0 0 0 0 0 1 1 1 0 1 0 1 0 1 0 1 1\n",
      " 1 1 0 1 0 1 0 1 1 0 1 0 1 1 1 0 1 0 0 1 0 0 0 0 0 0 1 0 0 1 1 1 0 1 0 1 0\n",
      " 0 1 0 1 0 1 0 1 1 1 0 0 0 0 0 1 0 0 0 1 1 0 1 1 0 1 0 1 1 0 0 1 1 0 0 1 1\n",
      " 0 0 0 1 1 1 0 1 1 1 0 1 0 1 0 1 1 0 1 1 0 1 1 0 1 1 0 1 0 1 0 0 1 1 0 1 1\n",
      " 0 0 1 0 1 0 1 0 1 1 1 0 0 1 1 0 0 0 1 0 1 0 0 1 0 1 1 1 0 0 0 1 0 1 0 1 1\n",
      " 1 0 0 1 0 1 0 0 1 0 0 0 0 1 1 1 0 1 1 1 1 1 1 1 0 1 1 0 0 0 1 0 0 1 1 0 1\n",
      " 0 0 0 0 1 0 0 1 0 0 0 0 1 1 1 0 0 1 0 0 1 0 1 1 1 1 0 1 1 0 0 0 1 0 1 1 0\n",
      " 0 0 0 1 0 1 0 0 1 1 0 0 1 0 1 0 1 0 1 1 0 0 1 1 1 1 1 1 0 0 1 1 0 1 1 0 1\n",
      " 1 1 0 1 0]\n",
      "\n",
      "Confusion Matrix : \n",
      " [[297   5]\n",
      " [  9 323]]\n",
      "\n",
      "Classification Report : \n",
      "               precision    recall  f1-score   support\n",
      "\n",
      "           0       0.97      0.98      0.98       302\n",
      "           1       0.98      0.97      0.98       332\n",
      "\n",
      "    accuracy                           0.98       634\n",
      "   macro avg       0.98      0.98      0.98       634\n",
      "weighted avg       0.98      0.98      0.98       634\n",
      "\n",
      "\n",
      "Accuracy Score :  0.9779179810725552\n",
      "\n",
      "Training Score 0.9936808846761453\n",
      "\n",
      "Training Score 0.9779179810725552\n"
     ]
    }
   ],
   "source": [
    "from sklearn.ensemble import RandomForestClassifier\n",
    "\n",
    "Rfc= RandomForestClassifier(n_estimators=65,criterion=\"gini\",max_depth=28,min_samples_split=15)\n",
    "\n",
    "Rfc.fit(x_train,y_train)\n",
    "\n",
    "ypredRFC=Rfc.predict(x_test)\n",
    "\n",
    "print(ypredRFC)\n",
    "\n",
    "eval_model(y_test,ypredRFC)\n",
    "\n",
    "mscore(Rfc)"
   ]
  },
  {
   "cell_type": "markdown",
   "id": "5e4826ea",
   "metadata": {},
   "source": [
    "# c. KNN Classifier"
   ]
  },
  {
   "cell_type": "code",
   "execution_count": 242,
   "id": "0d82866e",
   "metadata": {
    "scrolled": false
   },
   "outputs": [
    {
     "name": "stdout",
     "output_type": "stream",
     "text": [
      "[1 1 0 0 1 1 0 1 0 0 0 0 0 0 0 0 1 1 0 0 1 0 1 1 0 1 1 0 1 1 1 1 1 1 0 0 0\n",
      " 1 1 1 0 0 0 0 1 0 1 0 1 1 0 1 1 1 1 0 0 1 0 1 0 1 1 1 1 0 0 0 1 1 0 0 0 0\n",
      " 1 0 0 1 0 1 0 0 1 1 0 1 1 0 1 1 0 0 1 0 0 1 1 0 0 0 0 0 1 0 0 0 1 0 0 1 1\n",
      " 1 1 0 0 1 1 1 1 0 0 1 1 1 0 0 1 0 0 1 0 1 1 1 0 0 1 0 1 1 1 1 0 0 1 1 0 1\n",
      " 0 0 0 0 1 1 1 0 0 1 0 0 1 0 0 1 0 1 0 1 0 0 1 0 0 1 0 1 0 0 0 0 1 1 1 1 1\n",
      " 0 0 0 1 1 0 0 1 1 0 1 0 0 0 1 0 0 0 1 0 1 1 1 1 1 0 1 1 0 0 0 1 0 0 0 0 1\n",
      " 1 1 1 0 0 1 1 1 1 1 0 1 0 0 1 0 0 0 0 0 1 1 1 0 0 0 0 1 1 1 1 0 1 0 1 1 1\n",
      " 1 1 0 1 0 1 0 1 0 0 1 1 0 0 1 0 0 0 0 1 1 0 1 1 1 1 1 1 0 1 0 1 1 1 0 0 1\n",
      " 0 1 0 0 0 1 0 1 1 1 1 0 1 1 0 0 0 1 1 0 0 0 1 1 1 0 0 1 1 1 1 1 0 1 0 0 1\n",
      " 0 1 0 1 1 0 1 1 1 0 1 0 1 1 0 1 1 1 0 1 1 1 1 0 0 0 1 0 1 0 0 1 0 0 0 1 1\n",
      " 1 0 1 1 0 1 1 1 0 1 1 0 1 1 1 1 0 1 0 1 0 0 0 0 0 0 1 1 0 1 1 1 0 1 1 0 0\n",
      " 0 1 0 1 0 0 0 1 1 1 1 0 0 0 0 1 0 0 0 1 0 0 1 1 0 1 0 1 1 1 0 1 1 0 0 1 1\n",
      " 0 1 0 1 0 0 0 0 1 1 0 1 0 1 0 0 1 0 0 0 1 1 1 0 0 1 1 1 0 1 1 1 1 0 0 1 1\n",
      " 1 1 1 1 1 1 1 0 0 0 0 0 1 1 0 1 0 1 1 0 0 1 0 1 0 1 1 0 0 1 1 0 0 1 0 1 1\n",
      " 0 0 0 1 0 1 0 0 1 0 0 0 1 1 0 1 1 1 1 0 0 0 1 1 0 1 1 1 0 0 0 0 1 1 1 0 1\n",
      " 0 1 0 0 1 0 0 1 0 0 1 1 0 1 1 0 1 1 0 0 1 1 1 1 1 1 0 1 1 1 0 0 1 0 0 1 0\n",
      " 0 0 1 1 0 1 1 0 0 0 1 1 0 0 0 1 0 0 0 0 0 1 1 1 1 1 0 1 0 1 1 1 1 1 0 0 1\n",
      " 0 0 0 1 1]\n",
      "\n",
      "Confusion Matrix : \n",
      " [[206  96]\n",
      " [100 232]]\n",
      "\n",
      "Classification Report : \n",
      "               precision    recall  f1-score   support\n",
      "\n",
      "           0       0.67      0.68      0.68       302\n",
      "           1       0.71      0.70      0.70       332\n",
      "\n",
      "    accuracy                           0.69       634\n",
      "   macro avg       0.69      0.69      0.69       634\n",
      "weighted avg       0.69      0.69      0.69       634\n",
      "\n",
      "\n",
      "Accuracy Score :  0.6908517350157729\n",
      "\n",
      "Training Score 0.740916271721959\n",
      "\n",
      "Training Score 0.6908517350157729\n"
     ]
    }
   ],
   "source": [
    "from sklearn.neighbors import KNeighborsClassifier\n",
    "\n",
    "import warnings\n",
    "\n",
    "warnings.filterwarnings(\"ignore\")\n",
    "\n",
    "Knn=KNeighborsClassifier(n_neighbors=17)\n",
    "\n",
    "Knn.fit(x_train,y_train)\n",
    "\n",
    "ypredKNN=Knn.predict(x_test)\n",
    "\n",
    "print(ypredKNN)\n",
    "\n",
    "eval_model(y_test,ypredKNN)\n",
    "\n",
    "mscore(Knn)\n",
    "\n"
   ]
  },
  {
   "cell_type": "markdown",
   "id": "ab882dec",
   "metadata": {},
   "source": [
    "# d.  Logistic Regression-->"
   ]
  },
  {
   "cell_type": "code",
   "execution_count": 243,
   "id": "41d4cf3d",
   "metadata": {
    "scrolled": false
   },
   "outputs": [
    {
     "name": "stdout",
     "output_type": "stream",
     "text": [
      "[1 1 1 0 1 1 0 1 0 0 1 1 0 1 1 0 1 1 0 1 1 0 0 1 0 1 0 1 1 1 1 1 1 1 0 0 0\n",
      " 0 1 1 1 1 0 0 0 0 1 0 1 1 0 1 1 1 0 1 0 1 1 1 1 0 1 1 0 0 0 0 1 1 0 1 0 1\n",
      " 1 0 1 1 0 0 0 1 1 1 1 1 0 0 0 1 0 0 1 1 0 1 1 0 0 0 0 1 1 0 1 0 1 0 0 0 1\n",
      " 1 1 1 0 1 1 1 0 0 1 1 1 1 0 0 1 0 1 1 1 0 1 1 1 1 1 0 0 1 1 1 0 1 1 1 0 0\n",
      " 0 0 1 0 1 1 1 0 0 0 1 1 1 0 0 1 0 1 1 1 0 0 1 0 1 0 1 1 1 0 0 1 1 1 1 1 0\n",
      " 1 0 1 1 1 1 0 1 0 0 1 0 1 1 1 1 0 1 1 1 1 1 1 1 1 0 1 1 1 1 0 1 0 0 0 0 1\n",
      " 1 1 0 0 0 1 1 0 1 1 0 1 0 0 1 0 1 0 1 1 0 1 1 0 0 0 1 1 1 1 1 0 1 0 1 1 0\n",
      " 1 1 0 1 1 1 1 1 1 0 1 0 0 0 1 0 0 0 0 1 1 1 1 0 1 1 1 0 0 0 0 0 1 1 0 1 0\n",
      " 1 1 0 0 0 0 0 1 1 1 0 1 1 1 1 1 0 1 1 0 0 0 1 0 1 0 1 1 1 0 1 1 0 0 1 1 0\n",
      " 0 1 0 1 1 1 1 1 1 0 0 0 1 0 0 1 1 0 1 1 0 0 0 0 0 1 1 1 1 1 0 1 0 1 0 1 1\n",
      " 1 1 0 1 0 1 1 1 1 1 1 0 1 1 1 0 1 0 0 1 0 0 0 0 0 0 1 0 1 1 1 1 0 1 0 1 0\n",
      " 0 1 0 1 0 1 0 1 1 1 0 0 1 0 0 1 0 0 0 1 1 0 1 1 0 1 0 1 1 1 0 1 1 0 0 1 1\n",
      " 0 0 0 1 1 1 0 1 1 1 0 1 0 1 0 1 1 0 1 1 0 1 1 0 1 1 0 1 0 1 1 0 1 1 0 1 1\n",
      " 0 1 1 0 1 0 1 1 1 1 1 0 1 1 1 1 0 0 1 0 1 0 0 1 0 1 1 1 0 0 0 1 0 1 0 1 1\n",
      " 1 0 0 1 0 1 0 0 1 0 0 0 0 1 1 1 0 1 1 1 1 1 1 1 0 1 1 0 0 0 1 0 0 1 1 0 1\n",
      " 0 1 0 0 1 0 0 1 0 0 0 0 1 1 1 0 0 1 0 0 1 0 1 1 1 1 0 1 1 0 0 0 1 1 1 1 0\n",
      " 0 0 0 1 0 1 0 0 1 1 0 0 1 0 1 0 1 0 1 1 0 0 1 1 1 1 1 1 0 0 1 1 1 1 1 0 1\n",
      " 1 1 0 1 0]\n",
      "\n",
      "Confusion Matrix : \n",
      " [[261  41]\n",
      " [  9 323]]\n",
      "\n",
      "Classification Report : \n",
      "               precision    recall  f1-score   support\n",
      "\n",
      "           0       0.97      0.86      0.91       302\n",
      "           1       0.89      0.97      0.93       332\n",
      "\n",
      "    accuracy                           0.92       634\n",
      "   macro avg       0.93      0.92      0.92       634\n",
      "weighted avg       0.93      0.92      0.92       634\n",
      "\n",
      "\n",
      "Accuracy Score :  0.9211356466876972\n",
      "\n",
      "Training Score 0.9063981042654028\n",
      "\n",
      "Training Score 0.9211356466876972\n"
     ]
    }
   ],
   "source": [
    "from sklearn.linear_model import LogisticRegression\n",
    "\n",
    "logreg=LogisticRegression(solver='lbfgs', max_iter=1000)\n",
    "\n",
    "logreg.fit(x_train,y_train)\n",
    "\n",
    "ypredLR=logreg.predict(x_test)\n",
    "\n",
    "print(ypredLR)\n",
    "\n",
    "eval_model(y_test,ypredLR)\n",
    "\n",
    "mscore(logreg)\n"
   ]
  },
  {
   "cell_type": "markdown",
   "id": "5459c3c2",
   "metadata": {},
   "source": [
    "# e. SVM Classifier"
   ]
  },
  {
   "cell_type": "code",
   "execution_count": 245,
   "id": "ec721be8",
   "metadata": {},
   "outputs": [
    {
     "name": "stdout",
     "output_type": "stream",
     "text": [
      "[1 1 1 0 0 1 0 1 0 0 1 1 0 0 1 0 1 1 0 1 1 0 0 1 0 1 0 1 1 1 1 1 1 1 1 0 0\n",
      " 0 1 1 1 1 0 0 0 0 1 0 1 1 0 1 1 1 0 1 0 1 1 1 1 0 1 1 0 0 0 0 1 1 0 1 0 1\n",
      " 1 0 1 1 0 0 0 1 1 1 1 1 0 0 0 1 0 0 1 1 0 1 1 0 0 0 0 1 1 0 1 0 1 1 0 0 1\n",
      " 1 1 0 0 1 1 1 0 0 1 1 1 1 0 0 1 0 1 0 1 0 1 1 0 1 1 0 0 1 1 1 0 1 1 1 0 0\n",
      " 0 0 1 1 1 1 1 0 0 0 1 1 1 0 0 1 0 1 1 1 0 0 1 0 0 0 1 1 1 0 0 1 1 0 1 1 0\n",
      " 1 0 1 1 1 1 0 1 0 0 1 0 1 1 1 1 0 1 1 1 1 1 1 1 1 0 1 1 1 1 0 1 0 0 0 0 1\n",
      " 1 1 0 0 0 1 1 0 1 0 0 1 0 0 1 0 1 0 1 0 0 1 1 0 0 0 1 1 1 1 1 0 1 0 1 1 1\n",
      " 1 1 0 1 1 1 1 1 1 0 1 0 0 0 1 0 0 0 0 0 1 1 1 0 1 1 1 0 0 0 0 0 1 1 0 1 0\n",
      " 1 1 1 0 0 0 0 1 1 1 0 1 1 1 1 1 0 1 1 0 0 0 1 1 1 0 1 1 1 0 1 1 0 0 1 1 0\n",
      " 0 1 0 1 1 0 1 1 1 0 0 0 1 0 0 1 0 0 1 1 0 0 0 0 0 1 1 1 0 1 0 1 0 1 0 1 1\n",
      " 1 1 0 1 0 1 1 1 1 1 1 0 1 1 1 0 1 0 0 1 0 0 0 0 0 0 1 0 0 1 1 1 0 1 0 1 0\n",
      " 0 1 0 1 0 1 0 1 1 1 0 0 1 0 0 1 0 0 0 1 1 0 1 1 0 1 0 1 1 1 0 1 1 0 0 1 1\n",
      " 0 0 0 1 1 1 0 1 1 1 0 1 1 1 0 1 1 0 1 1 0 1 1 0 1 1 0 1 0 1 1 0 1 1 1 1 1\n",
      " 0 1 1 0 1 0 1 1 1 1 1 0 1 1 1 1 0 0 1 0 1 0 0 1 0 1 1 1 0 0 0 1 0 1 0 1 1\n",
      " 1 0 0 1 0 1 0 0 1 0 0 0 0 1 1 1 0 1 1 1 1 1 1 1 0 1 1 0 0 0 1 0 0 1 1 0 1\n",
      " 0 1 0 0 1 0 0 1 0 0 0 0 1 1 1 0 0 1 0 0 1 0 1 1 1 1 0 1 1 0 0 0 1 0 1 1 0\n",
      " 0 0 0 1 0 1 0 0 1 1 0 0 1 0 1 0 1 0 1 1 0 0 1 1 1 1 1 1 0 0 1 1 1 1 1 0 1\n",
      " 1 1 0 1 0]\n",
      "\n",
      "Confusion Matrix : \n",
      " [[273  29]\n",
      " [  4 328]]\n",
      "\n",
      "Classification Report : \n",
      "               precision    recall  f1-score   support\n",
      "\n",
      "           0       0.99      0.90      0.94       302\n",
      "           1       0.92      0.99      0.95       332\n",
      "\n",
      "    accuracy                           0.95       634\n",
      "   macro avg       0.95      0.95      0.95       634\n",
      "weighted avg       0.95      0.95      0.95       634\n",
      "\n",
      "\n",
      "Accuracy Score :  0.9479495268138801\n",
      "\n",
      "Training Score 0.9178515007898894\n",
      "\n",
      "Training Score 0.9479495268138801\n"
     ]
    }
   ],
   "source": [
    "from sklearn.svm import SVC\n",
    "\n",
    "Svm=SVC(kernel=\"linear\",C=1)\n",
    "\n",
    "Svm.fit(x_train,y_train)\n",
    "\n",
    "ypredSVM=Svm.predict(x_test)\n",
    "\n",
    "print(ypredSVM)\n",
    "\n",
    "eval_model(y_test,ypredSVM)\n",
    "\n",
    "mscore(Svm)"
   ]
  },
  {
   "cell_type": "markdown",
   "id": "6e1ca6bb",
   "metadata": {},
   "source": [
    "# 5.  Also generate confusion_matrix and classification report for each model             generated in Q4."
   ]
  },
  {
   "cell_type": "markdown",
   "id": "e4c4887c",
   "metadata": {},
   "source": [
    "# a. Confusion matrix and Classification Report of Decision Tree Classifier"
   ]
  },
  {
   "cell_type": "code",
   "execution_count": 246,
   "id": "708b692c",
   "metadata": {},
   "outputs": [
    {
     "name": "stdout",
     "output_type": "stream",
     "text": [
      "[1 1 1 0 0 1 0 1 0 0 1 1 0 0 1 0 1 1 0 1 1 0 0 1 0 1 0 1 1 1 1 1 1 1 0 0 0\n",
      " 0 1 1 1 1 0 0 0 0 1 0 1 1 0 1 1 1 0 1 0 1 1 1 1 0 1 1 1 0 0 0 1 1 0 0 0 1\n",
      " 1 0 1 1 0 0 0 1 1 1 1 1 0 0 0 1 0 0 1 1 0 1 1 0 0 0 0 1 1 0 1 0 1 1 0 0 1\n",
      " 1 0 0 0 0 1 1 0 0 1 1 1 1 0 0 0 0 1 0 1 0 1 1 0 0 1 0 0 1 1 1 0 1 1 1 0 0\n",
      " 0 0 1 1 1 1 1 0 0 0 1 1 1 0 0 0 0 1 1 1 0 0 1 0 0 0 1 1 1 0 0 1 1 0 1 1 0\n",
      " 0 0 1 1 1 1 0 1 0 0 1 0 1 1 1 1 0 1 1 1 1 1 1 1 1 0 1 1 1 0 0 1 0 0 0 0 1\n",
      " 1 1 0 0 0 1 1 0 1 0 0 1 0 0 1 0 1 0 1 0 0 1 1 0 0 0 1 1 1 0 1 0 1 0 1 1 0\n",
      " 1 1 0 1 1 1 1 1 1 0 1 0 0 0 1 0 0 0 0 0 1 1 1 0 1 1 1 0 0 0 0 0 1 1 0 1 0\n",
      " 1 1 0 0 0 0 0 1 0 0 0 1 1 1 1 1 0 1 1 0 0 0 0 0 1 0 1 1 1 0 1 1 0 0 1 1 0\n",
      " 0 1 0 1 1 0 1 0 1 0 0 0 0 0 0 1 0 0 1 1 0 0 0 0 0 1 1 1 0 1 0 1 0 1 0 1 1\n",
      " 1 1 0 1 0 1 0 1 1 0 1 0 1 0 1 0 1 0 0 1 0 0 0 0 0 0 1 0 0 1 1 1 0 1 0 1 0\n",
      " 0 1 0 1 0 1 0 1 1 1 0 0 1 1 0 1 0 0 0 0 1 0 1 1 0 1 0 1 1 0 0 1 1 0 0 1 1\n",
      " 0 0 0 1 1 1 0 1 1 1 0 1 0 1 0 1 1 0 1 1 0 1 1 0 1 1 0 1 0 1 0 0 1 1 0 1 1\n",
      " 0 0 1 0 1 0 1 0 1 1 1 0 0 1 1 0 0 0 1 0 1 0 0 1 0 1 1 1 0 0 0 1 0 1 0 1 1\n",
      " 1 0 0 1 0 1 0 0 1 0 0 0 0 1 1 1 0 1 1 1 1 1 1 1 0 1 1 0 0 0 1 0 0 1 1 0 1\n",
      " 0 0 0 0 1 0 0 0 0 0 0 0 1 1 0 0 0 1 0 0 1 0 1 1 1 1 0 1 1 0 0 0 1 0 1 1 0\n",
      " 0 0 0 1 0 1 0 0 1 1 0 0 1 0 1 0 1 0 1 1 0 0 1 1 1 1 1 1 0 0 1 1 0 1 1 0 1\n",
      " 1 1 0 1 0]\n",
      "\n",
      "Confusion Matrix : \n",
      " [[294   8]\n",
      " [ 15 317]]\n",
      "\n",
      "Classification Report : \n",
      "               precision    recall  f1-score   support\n",
      "\n",
      "           0       0.95      0.97      0.96       302\n",
      "           1       0.98      0.95      0.96       332\n",
      "\n",
      "    accuracy                           0.96       634\n",
      "   macro avg       0.96      0.96      0.96       634\n",
      "weighted avg       0.96      0.96      0.96       634\n",
      "\n",
      "\n",
      "Accuracy Score :  0.9637223974763407\n",
      "\n",
      "Training Score 0.990916271721959\n",
      "\n",
      "Training Score 0.9637223974763407\n"
     ]
    }
   ],
   "source": [
    "print(ypredDTC)\n",
    "\n",
    "eval_model(y_test,ypredDTC)\n",
    "\n",
    "mscore(Dtc)"
   ]
  },
  {
   "cell_type": "markdown",
   "id": "e56b4cd6",
   "metadata": {},
   "source": [
    "# b. Confusion matrix and Classification Report of Random Forest Classifier"
   ]
  },
  {
   "cell_type": "code",
   "execution_count": 222,
   "id": "6377f0b2",
   "metadata": {},
   "outputs": [
    {
     "name": "stdout",
     "output_type": "stream",
     "text": [
      "[1 1 1 0 0 1 0 1 0 0 1 1 0 0 1 0 1 1 0 1 1 0 0 1 0 1 0 1 1 1 1 1 1 1 1 0 0\n",
      " 0 1 1 1 1 0 0 0 0 1 0 1 1 0 1 1 1 0 1 0 1 1 1 1 0 1 1 1 0 0 0 1 1 0 0 0 1\n",
      " 1 0 1 1 0 0 0 1 1 1 1 1 0 0 0 1 0 0 1 1 0 1 1 0 0 0 0 1 1 0 1 0 1 1 0 0 1\n",
      " 1 0 1 0 0 1 1 0 0 1 1 1 1 0 0 0 0 1 0 1 0 1 1 0 0 1 0 0 1 1 0 0 1 1 1 0 0\n",
      " 0 0 1 1 1 1 1 0 0 0 1 1 1 0 0 0 0 1 1 1 0 0 1 0 0 0 1 1 1 0 0 1 1 0 1 1 0\n",
      " 0 0 1 1 1 1 0 1 0 0 1 0 1 1 1 1 0 1 1 0 1 1 1 1 1 0 1 1 1 0 0 1 0 0 0 0 1\n",
      " 1 1 0 0 0 1 1 0 1 0 0 1 0 0 1 0 1 0 1 0 0 1 1 0 0 0 1 1 1 1 1 0 1 0 1 1 0\n",
      " 1 1 0 1 1 1 1 1 1 0 1 0 0 0 1 0 0 0 0 0 1 1 1 0 1 1 1 0 0 0 0 0 1 1 0 1 0\n",
      " 1 1 0 0 0 0 0 1 0 0 0 1 1 1 1 1 0 1 1 0 0 0 0 0 1 0 1 1 1 0 1 1 0 0 1 1 0\n",
      " 0 1 0 1 1 0 1 0 1 0 0 0 0 0 0 1 0 0 1 1 0 0 0 0 0 1 1 1 0 1 0 1 0 1 0 1 1\n",
      " 1 1 0 1 0 1 0 1 1 0 1 0 1 1 1 0 1 0 0 1 0 0 0 0 0 0 1 0 0 1 1 1 0 1 0 1 0\n",
      " 0 1 0 1 0 1 0 1 1 1 0 0 0 0 0 1 0 0 0 1 1 0 1 1 0 1 0 1 1 0 0 1 1 0 0 1 1\n",
      " 0 0 0 1 1 1 0 1 1 1 0 1 0 1 0 1 1 0 1 1 0 1 1 0 1 1 0 1 0 1 0 0 1 1 0 1 1\n",
      " 0 0 1 0 1 0 1 0 1 1 1 0 0 1 1 0 0 0 1 0 1 0 0 1 0 1 1 1 0 0 0 1 0 1 0 1 1\n",
      " 1 0 0 1 0 1 0 0 1 0 0 0 0 1 1 1 0 1 1 1 1 1 1 1 0 1 1 0 0 0 1 0 0 1 1 0 1\n",
      " 0 0 0 0 1 0 0 1 0 0 0 0 1 1 1 0 0 1 0 0 1 0 1 1 1 1 0 1 1 0 0 0 1 0 1 1 0\n",
      " 0 0 0 1 0 1 0 0 1 1 0 0 1 0 1 0 1 0 1 1 0 0 1 1 1 1 1 1 0 0 1 1 0 1 1 0 1\n",
      " 1 1 0 1 0]\n",
      "\n",
      "Confusion Matrix : \n",
      " [[297   5]\n",
      " [  9 323]]\n",
      "\n",
      "Classification Report : \n",
      "               precision    recall  f1-score   support\n",
      "\n",
      "           0       0.97      0.98      0.98       302\n",
      "           1       0.98      0.97      0.98       332\n",
      "\n",
      "    accuracy                           0.98       634\n",
      "   macro avg       0.98      0.98      0.98       634\n",
      "weighted avg       0.98      0.98      0.98       634\n",
      "\n",
      "\n",
      "Accuracy Score :  0.9779179810725552\n",
      "\n",
      "Training Score 0.9924960505529226\n",
      "\n",
      "Training Score 0.9779179810725552\n"
     ]
    }
   ],
   "source": [
    "print(ypredRFC)\n",
    "\n",
    "eval_model(y_test,ypredRFC)\n",
    "\n",
    "mscore(Rfc)"
   ]
  },
  {
   "cell_type": "markdown",
   "id": "1a5a6dca",
   "metadata": {},
   "source": [
    "# c. Confusion matrix and Classification Report of KNN Classifier"
   ]
  },
  {
   "cell_type": "code",
   "execution_count": 247,
   "id": "8757a064",
   "metadata": {},
   "outputs": [
    {
     "name": "stdout",
     "output_type": "stream",
     "text": [
      "[1 1 0 0 1 1 0 1 0 0 0 0 0 0 0 0 1 1 0 0 1 0 1 1 0 1 1 0 1 1 1 1 1 1 0 0 0\n",
      " 1 1 1 0 0 0 0 1 0 1 0 1 1 0 1 1 1 1 0 0 1 0 1 0 1 1 1 1 0 0 0 1 1 0 0 0 0\n",
      " 1 0 0 1 0 1 0 0 1 1 0 1 1 0 1 1 0 0 1 0 0 1 1 0 0 0 0 0 1 0 0 0 1 0 0 1 1\n",
      " 1 1 0 0 1 1 1 1 0 0 1 1 1 0 0 1 0 0 1 0 1 1 1 0 0 1 0 1 1 1 1 0 0 1 1 0 1\n",
      " 0 0 0 0 1 1 1 0 0 1 0 0 1 0 0 1 0 1 0 1 0 0 1 0 0 1 0 1 0 0 0 0 1 1 1 1 1\n",
      " 0 0 0 1 1 0 0 1 1 0 1 0 0 0 1 0 0 0 1 0 1 1 1 1 1 0 1 1 0 0 0 1 0 0 0 0 1\n",
      " 1 1 1 0 0 1 1 1 1 1 0 1 0 0 1 0 0 0 0 0 1 1 1 0 0 0 0 1 1 1 1 0 1 0 1 1 1\n",
      " 1 1 0 1 0 1 0 1 0 0 1 1 0 0 1 0 0 0 0 1 1 0 1 1 1 1 1 1 0 1 0 1 1 1 0 0 1\n",
      " 0 1 0 0 0 1 0 1 1 1 1 0 1 1 0 0 0 1 1 0 0 0 1 1 1 0 0 1 1 1 1 1 0 1 0 0 1\n",
      " 0 1 0 1 1 0 1 1 1 0 1 0 1 1 0 1 1 1 0 1 1 1 1 0 0 0 1 0 1 0 0 1 0 0 0 1 1\n",
      " 1 0 1 1 0 1 1 1 0 1 1 0 1 1 1 1 0 1 0 1 0 0 0 0 0 0 1 1 0 1 1 1 0 1 1 0 0\n",
      " 0 1 0 1 0 0 0 1 1 1 1 0 0 0 0 1 0 0 0 1 0 0 1 1 0 1 0 1 1 1 0 1 1 0 0 1 1\n",
      " 0 1 0 1 0 0 0 0 1 1 0 1 0 1 0 0 1 0 0 0 1 1 1 0 0 1 1 1 0 1 1 1 1 0 0 1 1\n",
      " 1 1 1 1 1 1 1 0 0 0 0 0 1 1 0 1 0 1 1 0 0 1 0 1 0 1 1 0 0 1 1 0 0 1 0 1 1\n",
      " 0 0 0 1 0 1 0 0 1 0 0 0 1 1 0 1 1 1 1 0 0 0 1 1 0 1 1 1 0 0 0 0 1 1 1 0 1\n",
      " 0 1 0 0 1 0 0 1 0 0 1 1 0 1 1 0 1 1 0 0 1 1 1 1 1 1 0 1 1 1 0 0 1 0 0 1 0\n",
      " 0 0 1 1 0 1 1 0 0 0 1 1 0 0 0 1 0 0 0 0 0 1 1 1 1 1 0 1 0 1 1 1 1 1 0 0 1\n",
      " 0 0 0 1 1]\n",
      "\n",
      "Confusion Matrix : \n",
      " [[206  96]\n",
      " [100 232]]\n",
      "\n",
      "Classification Report : \n",
      "               precision    recall  f1-score   support\n",
      "\n",
      "           0       0.67      0.68      0.68       302\n",
      "           1       0.71      0.70      0.70       332\n",
      "\n",
      "    accuracy                           0.69       634\n",
      "   macro avg       0.69      0.69      0.69       634\n",
      "weighted avg       0.69      0.69      0.69       634\n",
      "\n",
      "\n",
      "Accuracy Score :  0.6908517350157729\n",
      "\n",
      "Training Score 0.740916271721959\n",
      "\n",
      "Training Score 0.6908517350157729\n"
     ]
    }
   ],
   "source": [
    "print(ypredKNN)\n",
    "\n",
    "eval_model(y_test,ypredKNN)\n",
    "\n",
    "mscore(Knn)"
   ]
  },
  {
   "cell_type": "markdown",
   "id": "cc61be09",
   "metadata": {},
   "source": [
    "# d.  Confusion matrix and Classification Report of Logistic Regression"
   ]
  },
  {
   "cell_type": "code",
   "execution_count": 248,
   "id": "65219e11",
   "metadata": {},
   "outputs": [
    {
     "name": "stdout",
     "output_type": "stream",
     "text": [
      "[1 1 1 0 1 1 0 1 0 0 1 1 0 1 1 0 1 1 0 1 1 0 0 1 0 1 0 1 1 1 1 1 1 1 0 0 0\n",
      " 0 1 1 1 1 0 0 0 0 1 0 1 1 0 1 1 1 0 1 0 1 1 1 1 0 1 1 0 0 0 0 1 1 0 1 0 1\n",
      " 1 0 1 1 0 0 0 1 1 1 1 1 0 0 0 1 0 0 1 1 0 1 1 0 0 0 0 1 1 0 1 0 1 0 0 0 1\n",
      " 1 1 1 0 1 1 1 0 0 1 1 1 1 0 0 1 0 1 1 1 0 1 1 1 1 1 0 0 1 1 1 0 1 1 1 0 0\n",
      " 0 0 1 0 1 1 1 0 0 0 1 1 1 0 0 1 0 1 1 1 0 0 1 0 1 0 1 1 1 0 0 1 1 1 1 1 0\n",
      " 1 0 1 1 1 1 0 1 0 0 1 0 1 1 1 1 0 1 1 1 1 1 1 1 1 0 1 1 1 1 0 1 0 0 0 0 1\n",
      " 1 1 0 0 0 1 1 0 1 1 0 1 0 0 1 0 1 0 1 1 0 1 1 0 0 0 1 1 1 1 1 0 1 0 1 1 0\n",
      " 1 1 0 1 1 1 1 1 1 0 1 0 0 0 1 0 0 0 0 1 1 1 1 0 1 1 1 0 0 0 0 0 1 1 0 1 0\n",
      " 1 1 0 0 0 0 0 1 1 1 0 1 1 1 1 1 0 1 1 0 0 0 1 0 1 0 1 1 1 0 1 1 0 0 1 1 0\n",
      " 0 1 0 1 1 1 1 1 1 0 0 0 1 0 0 1 1 0 1 1 0 0 0 0 0 1 1 1 1 1 0 1 0 1 0 1 1\n",
      " 1 1 0 1 0 1 1 1 1 1 1 0 1 1 1 0 1 0 0 1 0 0 0 0 0 0 1 0 1 1 1 1 0 1 0 1 0\n",
      " 0 1 0 1 0 1 0 1 1 1 0 0 1 0 0 1 0 0 0 1 1 0 1 1 0 1 0 1 1 1 0 1 1 0 0 1 1\n",
      " 0 0 0 1 1 1 0 1 1 1 0 1 0 1 0 1 1 0 1 1 0 1 1 0 1 1 0 1 0 1 1 0 1 1 0 1 1\n",
      " 0 1 1 0 1 0 1 1 1 1 1 0 1 1 1 1 0 0 1 0 1 0 0 1 0 1 1 1 0 0 0 1 0 1 0 1 1\n",
      " 1 0 0 1 0 1 0 0 1 0 0 0 0 1 1 1 0 1 1 1 1 1 1 1 0 1 1 0 0 0 1 0 0 1 1 0 1\n",
      " 0 1 0 0 1 0 0 1 0 0 0 0 1 1 1 0 0 1 0 0 1 0 1 1 1 1 0 1 1 0 0 0 1 1 1 1 0\n",
      " 0 0 0 1 0 1 0 0 1 1 0 0 1 0 1 0 1 0 1 1 0 0 1 1 1 1 1 1 0 0 1 1 1 1 1 0 1\n",
      " 1 1 0 1 0]\n",
      "\n",
      "Confusion Matrix : \n",
      " [[261  41]\n",
      " [  9 323]]\n",
      "\n",
      "Classification Report : \n",
      "               precision    recall  f1-score   support\n",
      "\n",
      "           0       0.97      0.86      0.91       302\n",
      "           1       0.89      0.97      0.93       332\n",
      "\n",
      "    accuracy                           0.92       634\n",
      "   macro avg       0.93      0.92      0.92       634\n",
      "weighted avg       0.93      0.92      0.92       634\n",
      "\n",
      "\n",
      "Accuracy Score :  0.9211356466876972\n",
      "\n",
      "Training Score 0.9063981042654028\n",
      "\n",
      "Training Score 0.9211356466876972\n"
     ]
    }
   ],
   "source": [
    "print(ypredLR)\n",
    "\n",
    "eval_model(y_test,ypredLR)\n",
    "\n",
    "mscore(logreg)"
   ]
  },
  {
   "cell_type": "markdown",
   "id": "3c92ace9",
   "metadata": {},
   "source": [
    "# e. Confusion matrix and Classification Report of SVM Classifier"
   ]
  },
  {
   "cell_type": "code",
   "execution_count": 249,
   "id": "f2cccdc9",
   "metadata": {},
   "outputs": [
    {
     "name": "stdout",
     "output_type": "stream",
     "text": [
      "[1 1 1 0 0 1 0 1 0 0 1 1 0 0 1 0 1 1 0 1 1 0 0 1 0 1 0 1 1 1 1 1 1 1 1 0 0\n",
      " 0 1 1 1 1 0 0 0 0 1 0 1 1 0 1 1 1 0 1 0 1 1 1 1 0 1 1 0 0 0 0 1 1 0 1 0 1\n",
      " 1 0 1 1 0 0 0 1 1 1 1 1 0 0 0 1 0 0 1 1 0 1 1 0 0 0 0 1 1 0 1 0 1 1 0 0 1\n",
      " 1 1 0 0 1 1 1 0 0 1 1 1 1 0 0 1 0 1 0 1 0 1 1 0 1 1 0 0 1 1 1 0 1 1 1 0 0\n",
      " 0 0 1 1 1 1 1 0 0 0 1 1 1 0 0 1 0 1 1 1 0 0 1 0 0 0 1 1 1 0 0 1 1 0 1 1 0\n",
      " 1 0 1 1 1 1 0 1 0 0 1 0 1 1 1 1 0 1 1 1 1 1 1 1 1 0 1 1 1 1 0 1 0 0 0 0 1\n",
      " 1 1 0 0 0 1 1 0 1 0 0 1 0 0 1 0 1 0 1 0 0 1 1 0 0 0 1 1 1 1 1 0 1 0 1 1 1\n",
      " 1 1 0 1 1 1 1 1 1 0 1 0 0 0 1 0 0 0 0 0 1 1 1 0 1 1 1 0 0 0 0 0 1 1 0 1 0\n",
      " 1 1 1 0 0 0 0 1 1 1 0 1 1 1 1 1 0 1 1 0 0 0 1 1 1 0 1 1 1 0 1 1 0 0 1 1 0\n",
      " 0 1 0 1 1 0 1 1 1 0 0 0 1 0 0 1 0 0 1 1 0 0 0 0 0 1 1 1 0 1 0 1 0 1 0 1 1\n",
      " 1 1 0 1 0 1 1 1 1 1 1 0 1 1 1 0 1 0 0 1 0 0 0 0 0 0 1 0 0 1 1 1 0 1 0 1 0\n",
      " 0 1 0 1 0 1 0 1 1 1 0 0 1 0 0 1 0 0 0 1 1 0 1 1 0 1 0 1 1 1 0 1 1 0 0 1 1\n",
      " 0 0 0 1 1 1 0 1 1 1 0 1 1 1 0 1 1 0 1 1 0 1 1 0 1 1 0 1 0 1 1 0 1 1 1 1 1\n",
      " 0 1 1 0 1 0 1 1 1 1 1 0 1 1 1 1 0 0 1 0 1 0 0 1 0 1 1 1 0 0 0 1 0 1 0 1 1\n",
      " 1 0 0 1 0 1 0 0 1 0 0 0 0 1 1 1 0 1 1 1 1 1 1 1 0 1 1 0 0 0 1 0 0 1 1 0 1\n",
      " 0 1 0 0 1 0 0 1 0 0 0 0 1 1 1 0 0 1 0 0 1 0 1 1 1 1 0 1 1 0 0 0 1 0 1 1 0\n",
      " 0 0 0 1 0 1 0 0 1 1 0 0 1 0 1 0 1 0 1 1 0 0 1 1 1 1 1 1 0 0 1 1 1 1 1 0 1\n",
      " 1 1 0 1 0]\n",
      "\n",
      "Confusion Matrix : \n",
      " [[273  29]\n",
      " [  4 328]]\n",
      "\n",
      "Classification Report : \n",
      "               precision    recall  f1-score   support\n",
      "\n",
      "           0       0.99      0.90      0.94       302\n",
      "           1       0.92      0.99      0.95       332\n",
      "\n",
      "    accuracy                           0.95       634\n",
      "   macro avg       0.95      0.95      0.95       634\n",
      "weighted avg       0.95      0.95      0.95       634\n",
      "\n",
      "\n",
      "Accuracy Score :  0.9479495268138801\n",
      "\n",
      "Training Score 0.9178515007898894\n",
      "\n",
      "Training Score 0.9479495268138801\n"
     ]
    }
   ],
   "source": [
    "print(ypredSVM)\n",
    "\n",
    "eval_model(y_test,ypredSVM)\n",
    "\n",
    "mscore(Svm)"
   ]
  },
  {
   "cell_type": "markdown",
   "id": "e3ce4c83",
   "metadata": {},
   "source": [
    "# 6. Report the model with the best accuracy."
   ]
  },
  {
   "cell_type": "code",
   "execution_count": 250,
   "id": "77062e5f",
   "metadata": {},
   "outputs": [
    {
     "name": "stdout",
     "output_type": "stream",
     "text": [
      "\n",
      "Accuracy Score of Decision Tree classifier :  0.9637223974763407\n",
      "\n",
      "Accuracy Score of Random Forest Classifier :  0.9779179810725552\n",
      "\n",
      "Accuracy Score of KNN Classifier           :  0.6908517350157729\n",
      "\n",
      "Accuracy Score of Logistic Regression      :  0.9211356466876972\n",
      "\n",
      "Accuracy Score of SVM Classifier           :  0.9479495268138801\n"
     ]
    }
   ],
   "source": [
    "print(\"\\nAccuracy Score of Decision Tree classifier : \",accuracy_score(y_test,ypredDTC))\n",
    "print(\"\\nAccuracy Score of Random Forest Classifier : \",accuracy_score(y_test,ypredRFC))\n",
    "print(\"\\nAccuracy Score of KNN Classifier           : \",accuracy_score(y_test,ypredKNN))\n",
    "print(\"\\nAccuracy Score of Logistic Regression      : \",accuracy_score(y_test,ypredLR))\n",
    "print(\"\\nAccuracy Score of SVM Classifier           : \",accuracy_score(y_test,ypredSVM))"
   ]
  },
  {
   "cell_type": "markdown",
   "id": "5d59633a",
   "metadata": {},
   "source": [
    "# \"\"\"From the above obesrvations we can conclude that The Model with the Best Accuracy is Random Forest Classifier Model with 97.79% Accuracy and The Model with the least Accuracy is KNN Classifier Model with 69.08% Accuracy.\"\"\""
   ]
  }
 ],
 "metadata": {
  "kernelspec": {
   "display_name": "Python 3 (ipykernel)",
   "language": "python",
   "name": "python3"
  },
  "language_info": {
   "codemirror_mode": {
    "name": "ipython",
    "version": 3
   },
   "file_extension": ".py",
   "mimetype": "text/x-python",
   "name": "python",
   "nbconvert_exporter": "python",
   "pygments_lexer": "ipython3",
   "version": "3.9.13"
  }
 },
 "nbformat": 4,
 "nbformat_minor": 5
}
